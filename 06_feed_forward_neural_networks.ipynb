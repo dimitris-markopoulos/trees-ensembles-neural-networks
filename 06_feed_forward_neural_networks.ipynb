{
 "cells": [
  {
   "cell_type": "markdown",
   "metadata": {},
   "source": [
    "tree.py does not generalize to feed forward NN - new script."
   ]
  },
  {
   "cell_type": "code",
   "execution_count": 18,
   "metadata": {},
   "outputs": [],
   "source": [
    "# Packages\n",
    "import pandas as pd\n",
    "import matplotlib.pyplot as plt\n",
    "import numpy as np\n",
    "import seaborn as sns\n",
    "import os\n",
    "import time\n",
    "from sklearn.neural_network import MLPClassifier\n",
    "from sklearn.model_selection import RandomizedSearchCV\n",
    "from sklearn.metrics import accuracy_score\n",
    "\n",
    "# ===== import data; tr,ts ======\n",
    "X_tr = pd.read_csv('split-data/processed/X_tr.csv')\n",
    "X_ts = pd.read_csv('split-data/processed/X_ts.csv')\n",
    "y_tr = pd.read_csv('split-data/processed/y_tr.csv')\n",
    "y_ts = pd.read_csv('split-data/processed/y_ts.csv')"
   ]
  },
  {
   "cell_type": "code",
   "execution_count": 19,
   "metadata": {},
   "outputs": [],
   "source": [
    "param_dist = {\n",
    "    'hidden_layer_sizes': [(50,), (100,), (150,),(100, 50), (50, 25), (128, 64)],\n",
    "    'activation': ['relu', 'tanh'],\n",
    "    'solver': ['adam', 'sgd'],\n",
    "    'learning_rate_init': [0.0005, 0.001, 0.005, 0.01],\n",
    "    'random_state': [42, 0, 1]  # to vary initializations\n",
    "}"
   ]
  },
  {
   "cell_type": "code",
   "execution_count": 20,
   "metadata": {},
   "outputs": [
    {
     "name": "stdout",
     "output_type": "stream",
     "text": [
      "Fitting 2 folds for each of 40 candidates, totalling 80 fits\n",
      "[CV] END activation=tanh, hidden_layer_sizes=(50, 25), learning_rate_init=0.001, random_state=1, solver=adam; total time=   1.4s\n",
      "[CV] END activation=tanh, hidden_layer_sizes=(50, 25), learning_rate_init=0.001, random_state=1, solver=adam; total time=   1.4s\n",
      "[CV] END activation=tanh, hidden_layer_sizes=(100,), learning_rate_init=0.001, random_state=1, solver=adam; total time=   1.7s\n",
      "[CV] END activation=relu, hidden_layer_sizes=(100, 50), learning_rate_init=0.0005, random_state=0, solver=sgd; total time=   1.6s\n",
      "[CV] END activation=tanh, hidden_layer_sizes=(50,), learning_rate_init=0.01, random_state=1, solver=sgd; total time=   3.0s\n",
      "[CV] END activation=relu, hidden_layer_sizes=(100, 50), learning_rate_init=0.0005, random_state=0, solver=sgd; total time=   1.6s\n",
      "[CV] END activation=relu, hidden_layer_sizes=(50,), learning_rate_init=0.005, random_state=1, solver=adam; total time=   3.5s\n",
      "[CV] END activation=tanh, hidden_layer_sizes=(50,), learning_rate_init=0.005, random_state=42, solver=sgd; total time=   3.5s\n",
      "[CV] END activation=relu, hidden_layer_sizes=(128, 64), learning_rate_init=0.0005, random_state=1, solver=sgd; total time=   2.0s\n",
      "[CV] END activation=tanh, hidden_layer_sizes=(50,), learning_rate_init=0.01, random_state=1, solver=sgd; total time=   3.9s\n",
      "[CV] END activation=tanh, hidden_layer_sizes=(50,), learning_rate_init=0.005, random_state=42, solver=sgd; total time=   4.3s\n",
      "[CV] END activation=relu, hidden_layer_sizes=(50,), learning_rate_init=0.005, random_state=1, solver=adam; total time=   4.6s\n",
      "[CV] END activation=relu, hidden_layer_sizes=(128, 64), learning_rate_init=0.0005, random_state=1, solver=sgd; total time=   2.0s\n",
      "[CV] END activation=relu, hidden_layer_sizes=(150,), learning_rate_init=0.001, random_state=0, solver=sgd; total time=   1.7s\n",
      "[CV] END activation=relu, hidden_layer_sizes=(150,), learning_rate_init=0.001, random_state=0, solver=sgd; total time=   1.6s\n",
      "[CV] END activation=tanh, hidden_layer_sizes=(150,), learning_rate_init=0.001, random_state=42, solver=sgd; total time=   1.9s\n",
      "[CV] END activation=tanh, hidden_layer_sizes=(128, 64), learning_rate_init=0.01, random_state=0, solver=adam; total time=   2.7s\n",
      "[CV] END activation=tanh, hidden_layer_sizes=(128, 64), learning_rate_init=0.01, random_state=0, solver=adam; total time=   3.2s\n",
      "[CV] END activation=tanh, hidden_layer_sizes=(150,), learning_rate_init=0.001, random_state=42, solver=sgd; total time=   2.5s\n",
      "[CV] END activation=tanh, hidden_layer_sizes=(100,), learning_rate_init=0.001, random_state=1, solver=adam; total time=   7.6s\n",
      "[CV] END activation=tanh, hidden_layer_sizes=(150,), learning_rate_init=0.001, random_state=1, solver=sgd; total time=   2.0s\n",
      "[CV] END activation=tanh, hidden_layer_sizes=(100,), learning_rate_init=0.0005, random_state=1, solver=adam; total time=   2.8s\n",
      "[CV] END activation=relu, hidden_layer_sizes=(100, 50), learning_rate_init=0.005, random_state=1, solver=sgd; total time=   1.5s\n",
      "[CV] END activation=tanh, hidden_layer_sizes=(100,), learning_rate_init=0.0005, random_state=1, solver=adam; total time=   1.9s\n",
      "[CV] END activation=relu, hidden_layer_sizes=(50,), learning_rate_init=0.01, random_state=1, solver=adam; total time=   4.7s\n",
      "[CV] END activation=relu, hidden_layer_sizes=(100, 50), learning_rate_init=0.005, random_state=1, solver=sgd; total time=   1.4s\n",
      "[CV] END activation=relu, hidden_layer_sizes=(50,), learning_rate_init=0.01, random_state=1, solver=adam; total time=   5.2s\n",
      "[CV] END activation=relu, hidden_layer_sizes=(100, 50), learning_rate_init=0.001, random_state=1, solver=sgd; total time=   1.4s\n",
      "[CV] END activation=tanh, hidden_layer_sizes=(100, 50), learning_rate_init=0.01, random_state=42, solver=adam; total time=   3.2s\n",
      "[CV] END activation=relu, hidden_layer_sizes=(100, 50), learning_rate_init=0.0005, random_state=1, solver=adam; total time=   3.1s\n",
      "[CV] END activation=relu, hidden_layer_sizes=(100, 50), learning_rate_init=0.001, random_state=1, solver=sgd; total time=   1.6s\n",
      "[CV] END activation=tanh, hidden_layer_sizes=(100, 50), learning_rate_init=0.01, random_state=42, solver=adam; total time=   4.7s\n",
      "[CV] END activation=relu, hidden_layer_sizes=(100, 50), learning_rate_init=0.0005, random_state=1, solver=adam; total time=   3.7s\n",
      "[CV] END activation=relu, hidden_layer_sizes=(50,), learning_rate_init=0.005, random_state=0, solver=sgd; total time=   0.9s\n",
      "[CV] END activation=relu, hidden_layer_sizes=(50,), learning_rate_init=0.005, random_state=0, solver=sgd; total time=   0.9s\n",
      "[CV] END activation=tanh, hidden_layer_sizes=(128, 64), learning_rate_init=0.001, random_state=0, solver=sgd; total time=  10.0s\n",
      "[CV] END activation=relu, hidden_layer_sizes=(150,), learning_rate_init=0.005, random_state=0, solver=adam; total time=  10.9s\n",
      "[CV] END activation=tanh, hidden_layer_sizes=(150,), learning_rate_init=0.001, random_state=1, solver=sgd; total time=   9.1s\n",
      "[CV] END activation=tanh, hidden_layer_sizes=(128, 64), learning_rate_init=0.001, random_state=0, solver=sgd; total time=  10.8s\n",
      "[CV] END activation=relu, hidden_layer_sizes=(100,), learning_rate_init=0.005, random_state=42, solver=adam; total time=   2.2s\n",
      "[CV] END activation=tanh, hidden_layer_sizes=(50,), learning_rate_init=0.001, random_state=0, solver=sgd; total time=   5.1s\n",
      "[CV] END activation=tanh, hidden_layer_sizes=(100, 50), learning_rate_init=0.01, random_state=0, solver=adam; total time=   3.4s\n",
      "[CV] END activation=tanh, hidden_layer_sizes=(128, 64), learning_rate_init=0.0005, random_state=0, solver=adam; total time=   2.5s\n",
      "[CV] END activation=relu, hidden_layer_sizes=(50,), learning_rate_init=0.001, random_state=0, solver=sgd; total time=   0.8s\n",
      "[CV] END activation=tanh, hidden_layer_sizes=(50,), learning_rate_init=0.001, random_state=0, solver=sgd; total time=   5.6s\n",
      "[CV] END activation=relu, hidden_layer_sizes=(50,), learning_rate_init=0.001, random_state=0, solver=sgd; total time=   1.0s\n",
      "[CV] END activation=tanh, hidden_layer_sizes=(50,), learning_rate_init=0.005, random_state=1, solver=adam; total time=   1.3s\n",
      "[CV] END activation=tanh, hidden_layer_sizes=(50,), learning_rate_init=0.005, random_state=1, solver=adam; total time=   1.3s\n",
      "[CV] END activation=tanh, hidden_layer_sizes=(100, 50), learning_rate_init=0.01, random_state=0, solver=adam; total time=   5.6s\n",
      "[CV] END activation=tanh, hidden_layer_sizes=(128, 64), learning_rate_init=0.0005, random_state=0, solver=adam; total time=   2.9s\n",
      "[CV] END activation=relu, hidden_layer_sizes=(100, 50), learning_rate_init=0.001, random_state=0, solver=sgd; total time=   2.0s\n",
      "[CV] END activation=relu, hidden_layer_sizes=(100, 50), learning_rate_init=0.001, random_state=0, solver=sgd; total time=   1.8s\n",
      "[CV] END activation=relu, hidden_layer_sizes=(150,), learning_rate_init=0.005, random_state=0, solver=adam; total time=  17.3s\n",
      "[CV] END activation=tanh, hidden_layer_sizes=(128, 64), learning_rate_init=0.0005, random_state=0, solver=sgd; total time=   2.6s\n",
      "[CV] END activation=relu, hidden_layer_sizes=(100,), learning_rate_init=0.005, random_state=42, solver=adam; total time=   7.2s\n",
      "[CV] END activation=relu, hidden_layer_sizes=(150,), learning_rate_init=0.0005, random_state=42, solver=adam; total time=   2.4s\n",
      "[CV] END activation=tanh, hidden_layer_sizes=(50,), learning_rate_init=0.005, random_state=0, solver=adam; total time=   2.4s\n",
      "[CV] END activation=relu, hidden_layer_sizes=(128, 64), learning_rate_init=0.01, random_state=0, solver=adam; total time=   9.9s\n",
      "[CV] END activation=tanh, hidden_layer_sizes=(128, 64), learning_rate_init=0.0005, random_state=1, solver=adam; total time=   2.6s\n",
      "[CV] END activation=relu, hidden_layer_sizes=(150,), learning_rate_init=0.0005, random_state=42, solver=adam; total time=   5.6s\n",
      "[CV] END activation=relu, hidden_layer_sizes=(50,), learning_rate_init=0.01, random_state=42, solver=adam; total time=   5.0s\n",
      "[CV] END activation=tanh, hidden_layer_sizes=(128, 64), learning_rate_init=0.0005, random_state=1, solver=adam; total time=   2.9s\n",
      "[CV] END activation=relu, hidden_layer_sizes=(128, 64), learning_rate_init=0.01, random_state=0, solver=adam; total time=  10.9s\n",
      "[CV] END activation=tanh, hidden_layer_sizes=(50,), learning_rate_init=0.005, random_state=0, solver=adam; total time=   3.7s\n",
      "[CV] END activation=tanh, hidden_layer_sizes=(128, 64), learning_rate_init=0.0005, random_state=0, solver=sgd; total time=   6.4s\n",
      "[CV] END activation=relu, hidden_layer_sizes=(150,), learning_rate_init=0.005, random_state=0, solver=sgd; total time=   1.5s\n",
      "[CV] END activation=tanh, hidden_layer_sizes=(50,), learning_rate_init=0.01, random_state=42, solver=sgd; total time=   2.6s\n",
      "[CV] END activation=relu, hidden_layer_sizes=(50,), learning_rate_init=0.01, random_state=42, solver=adam; total time=   5.7s\n",
      "[CV] END activation=relu, hidden_layer_sizes=(100,), learning_rate_init=0.001, random_state=1, solver=sgd; total time=   1.1s\n",
      "[CV] END activation=relu, hidden_layer_sizes=(150,), learning_rate_init=0.005, random_state=0, solver=sgd; total time=   1.5s\n",
      "[CV] END activation=relu, hidden_layer_sizes=(100,), learning_rate_init=0.001, random_state=1, solver=sgd; total time=   1.2s\n",
      "[CV] END activation=tanh, hidden_layer_sizes=(50,), learning_rate_init=0.01, random_state=42, solver=sgd; total time=   2.5s\n",
      "[CV] END activation=tanh, hidden_layer_sizes=(100,), learning_rate_init=0.0005, random_state=1, solver=sgd; total time=   1.2s\n",
      "[CV] END activation=tanh, hidden_layer_sizes=(50,), learning_rate_init=0.005, random_state=42, solver=adam; total time=   2.2s\n",
      "[CV] END activation=tanh, hidden_layer_sizes=(50,), learning_rate_init=0.005, random_state=42, solver=adam; total time=   2.5s\n",
      "[CV] END activation=tanh, hidden_layer_sizes=(50, 25), learning_rate_init=0.005, random_state=42, solver=sgd; total time=   1.8s\n",
      "[CV] END activation=relu, hidden_layer_sizes=(100, 50), learning_rate_init=0.0005, random_state=42, solver=adam; total time=   1.6s\n",
      "[CV] END activation=tanh, hidden_layer_sizes=(50, 25), learning_rate_init=0.005, random_state=42, solver=sgd; total time=   2.2s\n",
      "[CV] END activation=relu, hidden_layer_sizes=(100, 50), learning_rate_init=0.0005, random_state=42, solver=adam; total time=   2.0s\n",
      "[CV] END activation=tanh, hidden_layer_sizes=(100,), learning_rate_init=0.0005, random_state=1, solver=sgd; total time=   3.7s\n",
      "Elapsed Time: 36.53 seconds\n"
     ]
    }
   ],
   "source": [
    "mlp = MLPClassifier(max_iter=1000)\n",
    "\n",
    "start = time.time()\n",
    "\n",
    "search = RandomizedSearchCV(\n",
    "    estimator=mlp,\n",
    "    param_distributions=param_dist,\n",
    "    n_iter=40,\n",
    "    scoring='accuracy',\n",
    "    cv=2,\n",
    "    n_jobs=-1,\n",
    "    verbose=2,\n",
    "    return_train_score=True\n",
    ")\n",
    "\n",
    "search.fit(X_tr, y_tr.values.ravel())\n",
    "\n",
    "end = time.time()\n",
    "print(f\"Elapsed Time: {end - start:.2f} seconds\")"
   ]
  },
  {
   "cell_type": "code",
   "execution_count": 21,
   "metadata": {},
   "outputs": [
    {
     "name": "stdout",
     "output_type": "stream",
     "text": [
      "Best Hyperparameters: {'solver': 'adam', 'random_state': 1, 'learning_rate_init': 0.01, 'hidden_layer_sizes': (50,), 'activation': 'relu'}\n",
      "Test Accuracy: 80.57%\n"
     ]
    }
   ],
   "source": [
    "best_mlp = search.best_estimator_\n",
    "y_pred = best_mlp.predict(X_ts)\n",
    "\n",
    "test_acc = accuracy_score(y_ts, y_pred)\n",
    "print(\"Best Hyperparameters:\", search.best_params_)\n",
    "print(f\"Test Accuracy: {test_acc * 100:.2f}%\")"
   ]
  }
 ],
 "metadata": {
  "kernelspec": {
   "display_name": "base",
   "language": "python",
   "name": "python3"
  },
  "language_info": {
   "codemirror_mode": {
    "name": "ipython",
    "version": 3
   },
   "file_extension": ".py",
   "mimetype": "text/x-python",
   "name": "python",
   "nbconvert_exporter": "python",
   "pygments_lexer": "ipython3",
   "version": "3.12.2"
  }
 },
 "nbformat": 4,
 "nbformat_minor": 2
}
